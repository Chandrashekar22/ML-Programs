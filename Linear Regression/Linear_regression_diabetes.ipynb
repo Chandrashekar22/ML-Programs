{
  "nbformat": 4,
  "nbformat_minor": 0,
  "metadata": {
    "colab": {
      "name": "Linear_regression_diabetes.ipynb",
      "provenance": [],
      "collapsed_sections": []
    },
    "kernelspec": {
      "name": "python3",
      "display_name": "Python 3"
    },
    "language_info": {
      "name": "python"
    }
  },
  "cells": [
    {
      "cell_type": "code",
      "metadata": {
        "id": "WDzmT-W4WJnE"
      },
      "source": [
        "import matplotlib.pyplot as plt\n",
        "import numpy as np\n",
        "from sklearn import datasets, linear_model\n",
        "from sklearn.metrics import mean_squared_error\n"
      ],
      "execution_count": null,
      "outputs": []
    },
    {
      "cell_type": "code",
      "metadata": {
        "colab": {
          "base_uri": "https://localhost:8080/"
        },
        "id": "O8HgboyJXLv3",
        "outputId": "a02493e4-86cb-4f58-d403-0765c9e08911"
      },
      "source": [
        "diabetes=datasets.load_diabetes()\n",
        "print(diabetes.keys())\n",
        "# print(diabetes.feature_names)\n",
        "# print(diabetes.DESCR)"
      ],
      "execution_count": null,
      "outputs": [
        {
          "output_type": "stream",
          "text": [
            "dict_keys(['data', 'target', 'DESCR', 'feature_names', 'data_filename', 'target_filename'])\n"
          ],
          "name": "stdout"
        }
      ]
    },
    {
      "cell_type": "code",
      "metadata": {
        "id": "cOWAsmblXgax"
      },
      "source": [
        "diabetes_X=diabetes.data[:,np.newaxis,2]\n",
        "# diabetes_X=diabetes.data\n",
        "# print(diabetes_X)"
      ],
      "execution_count": null,
      "outputs": []
    },
    {
      "cell_type": "code",
      "metadata": {
        "id": "sIlaT0mvX3F2"
      },
      "source": [
        "diabetes_X_train=diabetes_X[:-300]\n",
        "diabetes_X_test=diabetes_X[-30:]\n",
        "diabetes_Y_train=diabetes.target[:-300]\n",
        "diabetes_Y_test=diabetes.target[-30:]"
      ],
      "execution_count": null,
      "outputs": []
    },
    {
      "cell_type": "code",
      "metadata": {
        "id": "HRvGqC60ZKM_"
      },
      "source": [
        "model=linear_model.LinearRegression()\n",
        "model.fit(diabetes_X_train,diabetes_Y_train)\n",
        "diabetes_Y_predicted=model.predict(diabetes_X_test)"
      ],
      "execution_count": null,
      "outputs": []
    },
    {
      "cell_type": "code",
      "metadata": {
        "colab": {
          "base_uri": "https://localhost:8080/"
        },
        "id": "wHQ1i88NbFUD",
        "outputId": "6047cc31-2980-41ee-da67-41fc60bccf2d"
      },
      "source": [
        "print(\"Mean Squared Error:\",mean_squared_error(diabetes_Y_test,diabetes_Y_predicted))"
      ],
      "execution_count": null,
      "outputs": [
        {
          "output_type": "stream",
          "text": [
            "Mean Squared Error: 2952.269480020428\n"
          ],
          "name": "stdout"
        }
      ]
    },
    {
      "cell_type": "code",
      "metadata": {
        "colab": {
          "base_uri": "https://localhost:8080/"
        },
        "id": "DGwaVtqFb5-9",
        "outputId": "f347de78-d0a3-4401-a41c-79dab84d99ed"
      },
      "source": [
        "print(\"Weight: \",model.coef_)\n",
        "print(\"Intercept: \",model.intercept_)"
      ],
      "execution_count": null,
      "outputs": [
        {
          "output_type": "stream",
          "text": [
            "Weight:  [925.78414794]\n",
            "Intercept:  150.74977732504254\n"
          ],
          "name": "stdout"
        }
      ]
    },
    {
      "cell_type": "code",
      "metadata": {
        "colab": {
          "base_uri": "https://localhost:8080/",
          "height": 265
        },
        "id": "zExjAqyrdKSC",
        "outputId": "9d49f506-5604-48ad-8706-59a0dfe02deb"
      },
      "source": [
        "plt.scatter(diabetes_X_test,diabetes_Y_test)\n",
        "plt.plot(diabetes_X_test,diabetes_Y_predicted)\n",
        "plt.show()"
      ],
      "execution_count": null,
      "outputs": [
        {
          "output_type": "display_data",
          "data": {
            "image/png": "[encoded data removed]",
            "text/plain": [
              "<Figure size 432x288 with 1 Axes>"
            ]
          },
          "metadata": {
            "tags": [],
            "needs_background": "light"
          }
        }
      ]
    },
    {
      "cell_type": "code",
      "metadata": {
        "id": "Z1CASzX-dVhg"
      },
      "source": [
        ""
      ],
      "execution_count": null,
      "outputs": []
    }
  ]
}