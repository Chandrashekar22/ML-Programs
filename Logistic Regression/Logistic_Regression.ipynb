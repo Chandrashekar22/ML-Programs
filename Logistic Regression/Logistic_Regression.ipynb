{
  "nbformat": 4,
  "nbformat_minor": 0,
  "metadata": {
    "colab": {
      "name": "Logistic_Regression.ipynb",
      "provenance": []
    },
    "kernelspec": {
      "name": "python3",
      "display_name": "Python 3"
    },
    "language_info": {
      "name": "python"
    }
  },
  "cells": [
    {
      "cell_type": "markdown",
      "metadata": {
        "id": "J6nroUkpxJfS"
      },
      "source": [
        "**Train a logestic regression classifier to predict whether a flower is Iris Virginica or not**"
      ]
    },
    {
      "cell_type": "code",
      "metadata": {
        "id": "n_6ouijksjjr"
      },
      "source": [
        "import numpy as np\n",
        "from sklearn import datasets\n",
        "from sklearn.linear_model import LogisticRegression"
      ],
      "execution_count": null,
      "outputs": []
    },
    {
      "cell_type": "code",
      "metadata": {
        "colab": {
          "base_uri": "https://localhost:8080/"
        },
        "id": "wK7RM31Eu688",
        "outputId": "aa7a1b22-e0d3-4f43-a253-f7aac4ecb8fe"
      },
      "source": [
        "iris=datasets.load_iris()\n",
        "print(iris.feature_names)"
      ],
      "execution_count": null,
      "outputs": [
        {
          "output_type": "stream",
          "text": [
            "['sepal length (cm)', 'sepal width (cm)', 'petal length (cm)', 'petal width (cm)']\n"
          ],
          "name": "stdout"
        }
      ]
    },
    {
      "cell_type": "markdown",
      "metadata": {
        "id": "Ab-DTNFrw-tL"
      },
      "source": [
        "One feature is taken i.e petal width\n"
      ]
    },
    {
      "cell_type": "code",
      "metadata": {
        "colab": {
          "base_uri": "https://localhost:8080/"
        },
        "id": "nPrXEdwVvcbO",
        "outputId": "7398f6db-101a-4dd4-884c-0f8e79524a50"
      },
      "source": [
        "X=iris[\"data\"][:,3:]\n",
        "# print(X)\n",
        "y=(iris[\"target\"]==2).astype(np.int)\n",
        "print(y)"
      ],
      "execution_count": null,
      "outputs": [
        {
          "output_type": "stream",
          "text": [
            "[0 0 0 0 0 0 0 0 0 0 0 0 0 0 0 0 0 0 0 0 0 0 0 0 0 0 0 0 0 0 0 0 0 0 0 0 0\n",
            " 0 0 0 0 0 0 0 0 0 0 0 0 0 0 0 0 0 0 0 0 0 0 0 0 0 0 0 0 0 0 0 0 0 0 0 0 0\n",
            " 0 0 0 0 0 0 0 0 0 0 0 0 0 0 0 0 0 0 0 0 0 0 0 0 0 0 1 1 1 1 1 1 1 1 1 1 1\n",
            " 1 1 1 1 1 1 1 1 1 1 1 1 1 1 1 1 1 1 1 1 1 1 1 1 1 1 1 1 1 1 1 1 1 1 1 1 1\n",
            " 1 1]\n"
          ],
          "name": "stdout"
        }
      ]
    },
    {
      "cell_type": "markdown",
      "metadata": {
        "id": "37hn4hKzw2K5"
      },
      "source": [
        "Training a logestic regression classifier\n"
      ]
    },
    {
      "cell_type": "code",
      "metadata": {
        "colab": {
          "base_uri": "https://localhost:8080/"
        },
        "id": "qNO0WUN_v1_C",
        "outputId": "9f09f3fb-f540-4728-9acd-c3020b4f7d55"
      },
      "source": [
        "clf=LogisticRegression()\n",
        "clf.fit(X,y)\n",
        "example=clf.predict([[2]])\n",
        "print(example)"
      ],
      "execution_count": null,
      "outputs": [
        {
          "output_type": "stream",
          "text": [
            "[1]\n"
          ],
          "name": "stdout"
        }
      ]
    },
    {
      "cell_type": "markdown",
      "metadata": {
        "id": "QyeXzdvly4It"
      },
      "source": [
        "Using matplotlib to plot vizualization"
      ]
    },
    {
      "cell_type": "code",
      "metadata": {
        "colab": {
          "base_uri": "https://localhost:8080/",
          "height": 281
        },
        "id": "edJaLIvswylB",
        "outputId": "f2f151e8-09a9-4e37-e2a8-9bf7c9df9df3"
      },
      "source": [
        "import matplotlib.pyplot as plt\n",
        "X_new=np.linspace(0,3,1000).reshape(-1,1)\n",
        "y_prob=clf.predict_proba(X_new)\n",
        "# print(X_new,y_prob)\n",
        "plt.plot(X_new,y_prob[:,1],\"g-\")\n",
        "plt.title(\"Iris virginica\")\n",
        "plt.show()"
      ],
      "execution_count": null,
      "outputs": [
        {
          "output_type": "display_data",
          "data": {
            "image/png": "[encoded data removed]",
            "text/plain": [
              "<Figure size 432x288 with 1 Axes>"
            ]
          },
          "metadata": {
            "tags": [],
            "needs_background": "light"
          }
        }
      ]
    }
  ]
}